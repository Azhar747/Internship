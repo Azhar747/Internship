{
 "cells": [
  {
   "cell_type": "code",
   "execution_count": 3,
   "id": "f7f8b088",
   "metadata": {},
   "outputs": [
    {
     "name": "stdout",
     "output_type": "stream",
     "text": [
      "enter the number for factorial 5\n",
      "120\n"
     ]
    }
   ],
   "source": [
    "# 11 Write a python program to find the factorial of a number\n",
    "a=int(input(\"enter the number for factorial \"))\n",
    "x=range(1,a+1)\n",
    "temp=1\n",
    "for i in x:\n",
    "    if i==0:\n",
    "        print(1)\n",
    "    else:\n",
    "        temp=temp*i\n",
    "print(temp)\n"
   ]
  },
  {
   "cell_type": "code",
   "execution_count": 20,
   "id": "57198491",
   "metadata": {},
   "outputs": [
    {
     "name": "stdout",
     "output_type": "stream",
     "text": [
      "Enter the number :24\n",
      "Its composite \n"
     ]
    }
   ],
   "source": [
    "# 12 Write a python program to find whether a number is prime or composite.\n",
    "n=int(input(\"Enter the number :\"))\n",
    "x=range(2,n)\n",
    "temp=0\n",
    "for i in x:\n",
    "    if(n%i==0):\n",
    "        temp=1\n",
    "        break\n",
    "    else:\n",
    "        temp=0\n",
    "if(temp==0):\n",
    "    print(\"Its Prime\")\n",
    "else:\n",
    "    print(\"Its composite \")"
   ]
  },
  {
   "cell_type": "code",
   "execution_count": 32,
   "id": "a418065f",
   "metadata": {},
   "outputs": [
    {
     "name": "stdout",
     "output_type": "stream",
     "text": [
      "Enter a string to know its palindrome or not azhar\n",
      "Its not a palindrome\n"
     ]
    }
   ],
   "source": [
    "# 13 Write a python program to check whether a given string is palindrome or not\n",
    "a=input(\"Enter a string to know its palindrome or not \")\n",
    "s=a[::-1]\n",
    "if(a==s):\n",
    "    print(\"Its a palindrome\")\n",
    "else:\n",
    "    print(\"Its not a palindrome\")\n"
   ]
  },
  {
   "cell_type": "code",
   "execution_count": 38,
   "id": "a9a60db8",
   "metadata": {},
   "outputs": [
    {
     "name": "stdout",
     "output_type": "stream",
     "text": [
      "Hypotenuse = 5.0\n",
      "Adjacent = 4.0\n",
      "Opposite = 3.0\n"
     ]
    }
   ],
   "source": [
    "# 14 Write a Python program to get the third side of right-angled triangle from two given sides\n",
    "def ptheorem(opposite_side,adjacent_side,hypotenuse):\n",
    "        if opposite_side == str(\"x\"):\n",
    "            return (\"Opposite = \" + str(((hypotenuse**2) - (adjacent_side**2))**0.5))\n",
    "        elif adjacent_side == str(\"x\"):\n",
    "            return (\"Adjacent = \" + str(((hypotenuse**2) - (opposite_side**2))**0.5))\n",
    "        elif hypotenuse == str(\"x\"):\n",
    "            return (\"Hypotenuse = \" + str(((opposite_side**2) + (adjacent_side**2))**0.5))\n",
    "\n",
    "    \n",
    "print(ptheorem(3,4,'x')) #when hypotenuse is unkown \n",
    "print(ptheorem(3,'x',5)) #when adjacenet is unkown \n",
    "print(ptheorem('x',4,5)) #when opposite_side  is unkown \n",
    "\n"
   ]
  },
  {
   "cell_type": "code",
   "execution_count": 41,
   "id": "b8d0b0bb",
   "metadata": {},
   "outputs": [
    {
     "name": "stdout",
     "output_type": "stream",
     "text": [
      "Enter the string to know the characters in it azhar\n"
     ]
    },
    {
     "data": {
      "text/plain": [
       "Counter({'a': 2, 'z': 1, 'h': 1, 'r': 1})"
      ]
     },
     "execution_count": 41,
     "metadata": {},
     "output_type": "execute_result"
    }
   ],
   "source": [
    "# 15 Write a python program to print the frequency of each of the characters present in a given string\n",
    "# Method 1\n",
    "from collections import Counter\n",
    "string=input(\"Enter the string to know the characters in it: \")\n",
    "charcters=Counter(string)\n",
    "charcters\n"
   ]
  },
  {
   "cell_type": "code",
   "execution_count": 50,
   "id": "ff8f6a96",
   "metadata": {},
   "outputs": [
    {
     "name": "stdout",
     "output_type": "stream",
     "text": [
      "Enter the string to know the characters in it azhar\n",
      "{'a': 2, 'z': 1, 'h': 1, 'r': 1}\n"
     ]
    }
   ],
   "source": [
    "# Method 2\n",
    "string=input(\"Enter the string to know the characters in it \")\n",
    "dic={}\n",
    "for i in string:\n",
    "    if i in dic:\n",
    "        dic[i]=dic[i]+1\n",
    "    else:\n",
    "        dic[i]=1\n",
    "print(dic)\n",
    "\n"
   ]
  },
  {
   "cell_type": "code",
   "execution_count": null,
   "id": "abcfc53f",
   "metadata": {},
   "outputs": [],
   "source": []
  }
 ],
 "metadata": {
  "kernelspec": {
   "display_name": "Python 3 (ipykernel)",
   "language": "python",
   "name": "python3"
  },
  "language_info": {
   "codemirror_mode": {
    "name": "ipython",
    "version": 3
   },
   "file_extension": ".py",
   "mimetype": "text/x-python",
   "name": "python",
   "nbconvert_exporter": "python",
   "pygments_lexer": "ipython3",
   "version": "3.9.5"
  }
 },
 "nbformat": 4,
 "nbformat_minor": 5
}
